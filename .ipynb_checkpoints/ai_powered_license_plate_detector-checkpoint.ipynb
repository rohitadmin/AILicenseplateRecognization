{
 "cells": [
  {
   "cell_type": "code",
   "execution_count": 0,
   "metadata": {
    "colab": {},
    "colab_type": "code",
    "id": "ycRjhI25UC-P"
   },
   "outputs": [],
   "source": [
    "import matplotlib.pyplot as plt"
   ]
  },
  {
   "cell_type": "code",
   "execution_count": 0,
   "metadata": {
    "colab": {},
    "colab_type": "code",
    "id": "MzopHrMvUC-Z"
   },
   "outputs": [],
   "source": [
    "import numpy as np\n",
    "import cv2\n",
    "\n",
    "# Match contours to license plate or character template\n",
    "def find_contours(dimensions, img) :\n",
    "\n",
    "    # Find all contours in the image\n",
    "    cntrs, _ = cv2.findContours(img.copy(), cv2.RETR_TREE, cv2.CHAIN_APPROX_SIMPLE)\n",
    "\n",
    "    # Retrieve potential dimensions\n",
    "    lower_width = dimensions[0]\n",
    "    upper_width = dimensions[1]\n",
    "    lower_height = dimensions[2]\n",
    "    upper_height = dimensions[3]\n",
    "    \n",
    "    # Check largest 5 or  15 contours for license plate or character respectively\n",
    "    cntrs = sorted(cntrs, key=cv2.contourArea, reverse=True)[:15]\n",
    "    \n",
    "    ii = cv2.imread('contour.jpg')\n",
    "    \n",
    "    x_cntr_list = []\n",
    "    target_contours = []\n",
    "    img_res = []\n",
    "    for cntr in cntrs :\n",
    "        #detects contour in binary image and returns the coordinates of rectangle enclosing it\n",
    "        intX, intY, intWidth, intHeight = cv2.boundingRect(cntr)\n",
    "        \n",
    "        #checking the dimensions of the contour to filter out the characters by contour's size\n",
    "        if intWidth > lower_width and intWidth < upper_width and intHeight > lower_height and intHeight < upper_height :\n",
    "            x_cntr_list.append(intX) #stores the x coordinate of the character's contour, to used later for indexing the contours\n",
    "\n",
    "            char_copy = np.zeros((44,24))\n",
    "            #extracting each character using the enclosing rectangle's coordinates.\n",
    "            char = img[intY:intY+intHeight, intX:intX+intWidth]\n",
    "            char = cv2.resize(char, (20, 40))\n",
    "            \n",
    "            cv2.rectangle(ii, (intX,intY), (intWidth+intX, intY+intHeight), (50,21,200), 2)\n",
    "            plt.imshow(ii, cmap='gray')\n",
    "\n",
    "#             Make result formatted for classification: invert colors\n",
    "            char = cv2.subtract(255, char)\n",
    "\n",
    "            # Resize the image to 24x44 with black border\n",
    "            char_copy[2:42, 2:22] = char\n",
    "            char_copy[0:2, :] = 0\n",
    "            char_copy[:, 0:2] = 0\n",
    "            char_copy[42:44, :] = 0\n",
    "            char_copy[:, 22:24] = 0\n",
    "\n",
    "            img_res.append(char_copy) #List that stores the character's binary image (unsorted)\n",
    "            \n",
    "    #Return characters on ascending order with respect to the x-coordinate (most-left character first)\n",
    "            \n",
    "    plt.show()\n",
    "    #arbitrary function that stores sorted list of character indeces\n",
    "    indices = sorted(range(len(x_cntr_list)), key=lambda k: x_cntr_list[k])\n",
    "    img_res_copy = []\n",
    "    for idx in indices:\n",
    "        img_res_copy.append(img_res[idx])# stores character images according to their index\n",
    "    img_res = np.array(img_res_copy)\n",
    "\n",
    "    return img_res"
   ]
  },
  {
   "cell_type": "code",
   "execution_count": 0,
   "metadata": {
    "colab": {},
    "colab_type": "code",
    "id": "h23diSmEUC-e"
   },
   "outputs": [],
   "source": [
    "# Find characters in the resulting images\n",
    "def segment_characters(image) :\n",
    "\n",
    "    # Preprocess cropped license plate image\n",
    "    img_lp = cv2.resize(image, (333, 75))\n",
    "    img_gray_lp = cv2.cvtColor(img_lp, cv2.COLOR_BGR2GRAY)\n",
    "    _, img_binary_lp = cv2.threshold(img_gray_lp, 200, 255, cv2.THRESH_BINARY+cv2.THRESH_OTSU)\n",
    "    img_binary_lp = cv2.erode(img_binary_lp, (3,3))\n",
    "    img_binary_lp = cv2.dilate(img_binary_lp, (3,3))\n",
    "\n",
    "    LP_WIDTH = img_binary_lp.shape[0]\n",
    "    LP_HEIGHT = img_binary_lp.shape[1]\n",
    "\n",
    "    # Make borders white\n",
    "    img_binary_lp[0:3,:] = 255\n",
    "    img_binary_lp[:,0:3] = 255\n",
    "    img_binary_lp[72:75,:] = 255\n",
    "    img_binary_lp[:,330:333] = 255\n",
    "\n",
    "    # Estimations of character contours sizes of cropped license plates\n",
    "    dimensions = [LP_WIDTH/6,\n",
    "                       LP_WIDTH/2,\n",
    "                       LP_HEIGHT/10,\n",
    "                       2*LP_HEIGHT/3]\n",
    "    plt.imshow(img_binary_lp, cmap='gray')\n",
    "    plt.show()\n",
    "    cv2.imwrite('contour.jpg',img_binary_lp)\n",
    "\n",
    "    # Get contours within cropped license plate\n",
    "    char_list = find_contours(dimensions, img_binary_lp)\n",
    "\n",
    "    return char_list"
   ]
  },
  {
   "cell_type": "code",
   "execution_count": 39,
   "metadata": {
    "colab": {
     "base_uri": "https://localhost:8080/",
     "height": 237
    },
    "colab_type": "code",
    "id": "OGhFmSnYUC-j",
    "outputId": "fabb6134-d314-439b-fb85-3967f315fd1c"
   },
   "outputs": [
    {
     "data": {
      "image/png": "[encoded data removed]",
      "text/plain": [
       "<Figure size 432x288 with 1 Axes>"
      ]
     },
     "metadata": {
      "tags": []
     },
     "output_type": "display_data"
    },
    {
     "data": {
      "image/png": "[encoded data removed]",
      "text/plain": [
       "<Figure size 432x288 with 1 Axes>"
      ]
     },
     "metadata": {
      "tags": []
     },
     "output_type": "display_data"
    }
   ],
   "source": [
    "img = cv2.imread('car_plate.png')\n",
    "char = segment_characters(img)"
   ]
  },
  {
   "cell_type": "code",
   "execution_count": 40,
   "metadata": {
    "colab": {
     "base_uri": "https://localhost:8080/",
     "height": 83
    },
    "colab_type": "code",
    "id": "rZoiyrDaUC-p",
    "outputId": "12c01433-ba9b-45fc-8663-ddf2f3a3cc22"
   },
   "outputs": [
    {
     "data": {
      "image/png": "[encoded data removed]",
      "text/plain": [
       "<Figure size 432x288 with 10 Axes>"
      ]
     },
     "metadata": {
      "tags": []
     },
     "output_type": "display_data"
    }
   ],
   "source": [
    "for i in range(10):\n",
    "    plt.subplot(1, 10, i+1)\n",
    "    plt.imshow(char[i], cmap='gray')\n",
    "    plt.axis('off')"
   ]
  },
  {
   "cell_type": "markdown",
   "metadata": {
    "colab_type": "text",
    "id": "QXhqHfXLUC-9"
   },
   "source": [
    "### Model for characters"
   ]
  },
  {
   "cell_type": "code",
   "execution_count": 0,
   "metadata": {
    "colab": {},
    "colab_type": "code",
    "id": "cnH_x_PXUC_A"
   },
   "outputs": [],
   "source": [
    "import tensorflow as tf\n",
    "tf.enable_eager_execution()"
   ]
  },
  {
   "cell_type": "code",
   "execution_count": 42,
   "metadata": {
    "colab": {
     "base_uri": "https://localhost:8080/",
     "height": 51
    },
    "colab_type": "code",
    "id": "BhrsmfX9UC_p",
    "outputId": "0bd4c93b-dc04-4ca4-877b-9f084a03b550"
   },
   "outputs": [
    {
     "name": "stdout",
     "output_type": "stream",
     "text": [
      "Found 864 images belonging to 36 classes.\n",
      "Found 216 images belonging to 36 classes.\n"
     ]
    }
   ],
   "source": [
    "from tensorflow.keras.preprocessing.image import ImageDataGenerator\n",
    "train_datagen = ImageDataGenerator(rescale=1./255, width_shift_range=0.1, height_shift_range=0.1)\n",
    "train_generator = train_datagen.flow_from_directory(\n",
    "        'data/train',  # this is the target directory\n",
    "        target_size=(28,28),  # all images will be resized to 28x28\n",
    "        batch_size=1,\n",
    "        class_mode='categorical')\n",
    "\n",
    "validation_generator = train_datagen.flow_from_directory(\n",
    "        'data/val',  # this is the target directory\n",
    "        target_size=(28,28),  # all images will be resized to 28x28        batch_size=1,\n",
    "        class_mode='categorical')"
   ]
  },
  {
   "cell_type": "code",
   "execution_count": 0,
   "metadata": {
    "colab": {},
    "colab_type": "code",
    "id": "jy9Ges8McSGl"
   },
   "outputs": [],
   "source": [
    "from tensorflow.keras.models import Sequential\n",
    "from tensorflow.keras.layers import Dense, Flatten, MaxPooling2D, Dropout, Conv2D\n",
    "from tensorflow.keras import optimizers"
   ]
  },
  {
   "cell_type": "code",
   "execution_count": 0,
   "metadata": {
    "colab": {},
    "colab_type": "code",
    "id": "8IjCdBYrp4EK"
   },
   "outputs": [],
   "source": [
    "model = Sequential()\n",
    "model.add(Conv2D(32, (24,24), input_shape=(28, 28, 3), activation='relu', padding='same'))\n",
    "# model.add(Conv2D(32, (20,20), input_shape=(28, 28, 3), activation='relu', padding='same'))\n",
    "# model.add(Conv2D(32, (20,20), input_shape=(28, 28, 3), activation='relu', padding='same'))\n",
    "model.add(MaxPooling2D(pool_size=(2, 2)))\n",
    "model.add(Dropout(0.4))\n",
    "model.add(Flatten())\n",
    "model.add(Dense(128, activation='relu'))\n",
    "model.add(Dense(36, activation='softmax'))\n",
    "\n",
    "model.compile(loss='categorical_crossentropy', optimizer=optimizers.Adam(lr=0.00001), metrics=['accuracy'])"
   ]
  },
  {
   "cell_type": "code",
   "execution_count": 0,
   "metadata": {
    "colab": {},
    "colab_type": "code",
    "id": "w5aaqsHABUwx"
   },
   "outputs": [],
   "source": [
    "class stop_training_callback(tf.keras.callbacks.Callback):\n",
    "  def on_epoch_end(self, epoch, logs={}):\n",
    "    if(logs.get('val_acc') > 0.992):\n",
    "      self.model.stop_training = True"
   ]
  },
  {
   "cell_type": "code",
   "execution_count": 30,
   "metadata": {
    "colab": {
     "base_uri": "https://localhost:8080/",
     "height": 34
    },
    "colab_type": "code",
    "id": "QqoZHrC6DBY3",
    "outputId": "04893bee-16d5-44a3-db5f-221cf155ba82"
   },
   "outputs": [
    {
     "name": "stdout",
     "output_type": "stream",
     "text": [
      "WARNING:tensorflow:Weight and gradient histograms not supported for eagerexecution, setting `histogram_freq` to `0`.\n"
     ]
    }
   ],
   "source": [
    "import datetime\n",
    "!rm -rf logs\n",
    "log_dir=\"logs/fit/\" + datetime.datetime.now().strftime(\"%Y%m%d-%H%M%S\")\n",
    "tensorboard_callback = tf.keras.callbacks.TensorBoard(log_dir=log_dir, histogram_freq=1)"
   ]
  },
  {
   "cell_type": "code",
   "execution_count": 31,
   "metadata": {
    "colab": {
     "base_uri": "https://localhost:8080/",
     "height": 1000
    },
    "colab_type": "code",
    "id": "KPAtDd_Jp4BP",
    "outputId": "fbdd1ad4-32fd-40b7-eb13-61ed1db14e47"
   },
   "outputs": [
    {
     "name": "stdout",
     "output_type": "stream",
     "text": [
      "Epoch 1/80\n",
      "862/864 [============================>.] - ETA: 0s - loss: 3.4263 - acc: 0.1160Epoch 1/80\n",
      "864/864 [==============================] - 17s 20ms/step - loss: 3.4250 - acc: 0.1169 - val_loss: 3.0624 - val_acc: 0.4630\n",
      "Epoch 2/80\n",
      "863/864 [============================>.] - ETA: 0s - loss: 2.6822 - acc: 0.4299Epoch 1/80\n",
      "864/864 [==============================] - 17s 19ms/step - loss: 2.6817 - acc: 0.4306 - val_loss: 2.1403 - val_acc: 0.7315\n",
      "Epoch 3/80\n",
      "861/864 [============================>.] - ETA: 0s - loss: 1.7860 - acc: 0.6469Epoch 1/80\n",
      "864/864 [==============================] - 17s 20ms/step - loss: 1.7831 - acc: 0.6481 - val_loss: 1.4238 - val_acc: 0.7963\n",
      "Epoch 4/80\n",
      "863/864 [============================>.] - ETA: 0s - loss: 1.1762 - acc: 0.7659Epoch 1/80\n",
      "864/864 [==============================] - 17s 20ms/step - loss: 1.1769 - acc: 0.7650 - val_loss: 0.9614 - val_acc: 0.8889\n",
      "Epoch 5/80\n",
      "863/864 [============================>.] - ETA: 0s - loss: 0.8258 - acc: 0.8169Epoch 1/80\n",
      "864/864 [==============================] - 17s 20ms/step - loss: 0.8268 - acc: 0.8160 - val_loss: 0.6774 - val_acc: 0.9028\n",
      "Epoch 6/80\n",
      "862/864 [============================>.] - ETA: 0s - loss: 0.6108 - acc: 0.8689Epoch 1/80\n",
      "864/864 [==============================] - 17s 20ms/step - loss: 0.6112 - acc: 0.8681 - val_loss: 0.5131 - val_acc: 0.9306\n",
      "Epoch 7/80\n",
      "861/864 [============================>.] - ETA: 0s - loss: 0.4527 - acc: 0.9071Epoch 1/80\n",
      "864/864 [==============================] - 17s 19ms/step - loss: 0.4534 - acc: 0.9062 - val_loss: 0.4018 - val_acc: 0.9213\n",
      "Epoch 8/80\n",
      "862/864 [============================>.] - ETA: 0s - loss: 0.3744 - acc: 0.9188Epoch 1/80\n",
      "864/864 [==============================] - 17s 20ms/step - loss: 0.3738 - acc: 0.9190 - val_loss: 0.3395 - val_acc: 0.9491\n",
      "Epoch 9/80\n",
      "861/864 [============================>.] - ETA: 0s - loss: 0.2837 - acc: 0.9326Epoch 1/80\n",
      "864/864 [==============================] - 17s 20ms/step - loss: 0.2843 - acc: 0.9317 - val_loss: 0.2784 - val_acc: 0.9444\n",
      "Epoch 10/80\n",
      "860/864 [============================>.] - ETA: 0s - loss: 0.2346 - acc: 0.9465Epoch 1/80\n",
      "864/864 [==============================] - 17s 20ms/step - loss: 0.2336 - acc: 0.9468 - val_loss: 0.2193 - val_acc: 0.9491\n",
      "Epoch 11/80\n",
      "861/864 [============================>.] - ETA: 0s - loss: 0.2087 - acc: 0.9524Epoch 1/80\n",
      "864/864 [==============================] - 17s 19ms/step - loss: 0.2082 - acc: 0.9525 - val_loss: 0.1770 - val_acc: 0.9630\n",
      "Epoch 12/80\n",
      "861/864 [============================>.] - ETA: 0s - loss: 0.1656 - acc: 0.9617Epoch 1/80\n",
      "864/864 [==============================] - 17s 19ms/step - loss: 0.1654 - acc: 0.9618 - val_loss: 0.1830 - val_acc: 0.9398\n",
      "Epoch 13/80\n",
      "860/864 [============================>.] - ETA: 0s - loss: 0.1402 - acc: 0.9674Epoch 1/80\n",
      "864/864 [==============================] - 17s 19ms/step - loss: 0.1399 - acc: 0.9676 - val_loss: 0.1375 - val_acc: 0.9722\n",
      "Epoch 14/80\n",
      "861/864 [============================>.] - ETA: 0s - loss: 0.1319 - acc: 0.9710Epoch 1/80\n",
      "864/864 [==============================] - 17s 19ms/step - loss: 0.1316 - acc: 0.9711 - val_loss: 0.1336 - val_acc: 0.9583\n",
      "Epoch 15/80\n",
      "862/864 [============================>.] - ETA: 0s - loss: 0.1190 - acc: 0.9652Epoch 1/80\n",
      "864/864 [==============================] - 17s 20ms/step - loss: 0.1187 - acc: 0.9653 - val_loss: 0.1189 - val_acc: 0.9583\n",
      "Epoch 16/80\n",
      "861/864 [============================>.] - ETA: 0s - loss: 0.1079 - acc: 0.9698Epoch 1/80\n",
      "864/864 [==============================] - 17s 19ms/step - loss: 0.1077 - acc: 0.9699 - val_loss: 0.1360 - val_acc: 0.9583\n",
      "Epoch 17/80\n",
      "861/864 [============================>.] - ETA: 0s - loss: 0.0966 - acc: 0.9814Epoch 1/80\n",
      "864/864 [==============================] - 17s 20ms/step - loss: 0.0962 - acc: 0.9815 - val_loss: 0.0887 - val_acc: 0.9676\n",
      "Epoch 18/80\n",
      "860/864 [============================>.] - ETA: 0s - loss: 0.0869 - acc: 0.9756Epoch 1/80\n",
      "864/864 [==============================] - 17s 19ms/step - loss: 0.0866 - acc: 0.9757 - val_loss: 0.0729 - val_acc: 0.9815\n",
      "Epoch 19/80\n",
      "863/864 [============================>.] - ETA: 0s - loss: 0.0834 - acc: 0.9757Epoch 1/80\n",
      "864/864 [==============================] - 17s 20ms/step - loss: 0.0833 - acc: 0.9757 - val_loss: 0.0626 - val_acc: 0.9815\n",
      "Epoch 20/80\n",
      "861/864 [============================>.] - ETA: 0s - loss: 0.0712 - acc: 0.9837Epoch 1/80\n",
      "864/864 [==============================] - 17s 20ms/step - loss: 0.0710 - acc: 0.9838 - val_loss: 0.0882 - val_acc: 0.9722\n",
      "Epoch 21/80\n",
      "863/864 [============================>.] - ETA: 0s - loss: 0.0557 - acc: 0.9861Epoch 1/80\n",
      "864/864 [==============================] - 17s 20ms/step - loss: 0.0557 - acc: 0.9861 - val_loss: 0.0537 - val_acc: 0.9907\n",
      "Epoch 22/80\n",
      "861/864 [============================>.] - ETA: 0s - loss: 0.0604 - acc: 0.9849Epoch 1/80\n",
      "864/864 [==============================] - 17s 19ms/step - loss: 0.0602 - acc: 0.9850 - val_loss: 0.0499 - val_acc: 0.9907\n",
      "Epoch 23/80\n",
      "863/864 [============================>.] - ETA: 0s - loss: 0.0619 - acc: 0.9826Epoch 1/80\n",
      "864/864 [==============================] - 17s 19ms/step - loss: 0.0620 - acc: 0.9826 - val_loss: 0.0434 - val_acc: 0.9954\n"
     ]
    },
    {
     "data": {
      "text/plain": [
       "<tensorflow.python.keras.callbacks.History at 0x7fb532d27f60>"
      ]
     },
     "execution_count": 31,
     "metadata": {
      "tags": []
     },
     "output_type": "execute_result"
    }
   ],
   "source": [
    "batch_size = 1\n",
    "callbacks = [tensorboard_callback, stop_training_callback()]\n",
    "model.fit_generator(\n",
    "      train_generator,\n",
    "      steps_per_epoch = train_generator.samples // batch_size,\n",
    "      validation_data = validation_generator, \n",
    "      validation_steps = validation_generator.samples // batch_size,\n",
    "      epochs = 80, callbacks=callbacks)"
   ]
  },
  {
   "cell_type": "code",
   "execution_count": 0,
   "metadata": {
    "colab": {},
    "colab_type": "code",
    "id": "qFevjr5YcSDU"
   },
   "outputs": [],
   "source": [
    "# !kill 8400\n",
    "%load_ext tensorboard\n",
    "%tensorboard --logdir logs/fit"
   ]
  },
  {
   "cell_type": "code",
   "execution_count": 49,
   "metadata": {
    "colab": {
     "base_uri": "https://localhost:8080/",
     "height": 34
    },
    "colab_type": "code",
    "id": "3PICNwtZUDAD",
    "outputId": "483eda61-5d3a-4600-ab47-e1cd1bb6058e"
   },
   "outputs": [
    {
     "name": "stdout",
     "output_type": "stream",
     "text": [
      "DL8CAF5030\n"
     ]
    }
   ],
   "source": [
    "def fix_dimension(img): \n",
    "  new_img = np.zeros((28,28,3))\n",
    "  for i in range(3):\n",
    "    new_img[:,:,i] = img\n",
    "  return new_img\n",
    "  \n",
    "def show_results():\n",
    "    dic = {}\n",
    "    characters = '0123456789ABCDEFGHIJKLMNOPQRSTUVWXYZ'\n",
    "    for i,c in enumerate(characters):\n",
    "        dic[i] = c\n",
    "\n",
    "    output = []\n",
    "    for i,ch in enumerate(char): #iterating over the characters\n",
    "        img_ = cv2.resize(ch, (28,28))\n",
    "        img = fix_dimension(img_)\n",
    "        img = img.reshape(1,28,28,3) #preparing image for the model\n",
    "        y_ = model.predict_classes(img)[0] #predicting the class\n",
    "        character = dic[y_] #\n",
    "        output.append(character) #storing the result in a list\n",
    "        \n",
    "    plate_number = ''.join(output)\n",
    "    \n",
    "    return plate_number\n",
    "\n",
    "print(show_results())"
   ]
  },
  {
   "cell_type": "code",
   "execution_count": 90,
   "metadata": {
    "colab": {
     "base_uri": "https://localhost:8080/",
     "height": 373
    },
    "colab_type": "code",
    "id": "urZpH4YFUDAI",
    "outputId": "6688d92e-0c11-48c7-baa3-1c44b36873aa"
   },
   "outputs": [
    {
     "data": {
      "image/png": "[encoded data removed]",
      "text/plain": [
       "<Figure size 720x432 with 10 Axes>"
      ]
     },
     "metadata": {
      "tags": []
     },
     "output_type": "display_data"
    }
   ],
   "source": [
    "plt.figure(figsize=(10,6))\n",
    "for i,ch in enumerate(char):\n",
    "    img = cv2.resize(ch, (28,28))\n",
    "    plt.subplot(3,4,i+1)\n",
    "    plt.imshow(img,cmap='gray')\n",
    "    plt.title(f'predicted: {show_results()[i]}')\n",
    "    plt.axis('off')\n",
    "plt.show()"
   ]
  },
  {
   "cell_type": "code",
   "execution_count": 0,
   "metadata": {
    "colab": {},
    "colab_type": "code",
    "id": "uBboEZgAUDAT"
   },
   "outputs": [],
   "source": []
  }
 ],
 "metadata": {
  "accelerator": "GPU",
  "colab": {
   "collapsed_sections": [],
   "name": "ai_powered_license_plate_detector.ipynb",
   "provenance": []
  },
  "kernelspec": {
   "display_name": "Python 3",
   "language": "python",
   "name": "python3"
  },
  "language_info": {
   "codemirror_mode": {
    "name": "ipython",
    "version": 3
   },
   "file_extension": ".py",
   "mimetype": "text/x-python",
   "name": "python",
   "nbconvert_exporter": "python",
   "pygments_lexer": "ipython3",
   "version": "3.8.2"
  }
 },
 "nbformat": 4,
 "nbformat_minor": 1
}
